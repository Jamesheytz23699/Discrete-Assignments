{
 "cells": [
  {
   "cell_type": "markdown",
   "id": "1bfabc2f",
   "metadata": {},
   "source": [
    "# Assignment Lecture 1\n",
    "\n"
   ]
  },
  {
   "cell_type": "markdown",
   "id": "23e9abe8",
   "metadata": {},
   "source": [
    "Garcia, James Matthew C. <br> BSCS - 1 <br>\n",
    "***"
   ]
  },
  {
   "cell_type": "markdown",
   "id": "f143815c",
   "metadata": {},
   "source": [
    "$$ z^2 + x^2 = g^2 $$"
   ]
  },
  {
   "cell_type": "markdown",
   "id": "5a9c7c2f",
   "metadata": {},
   "source": []
  }
 ],
 "metadata": {
  "kernelspec": {
   "display_name": "Python 3 (ipykernel)",
   "language": "python",
   "name": "python3"
  },
  "language_info": {
   "codemirror_mode": {
    "name": "ipython",
    "version": 3
   },
   "file_extension": ".py",
   "mimetype": "text/x-python",
   "name": "python",
   "nbconvert_exporter": "python",
   "pygments_lexer": "ipython3",
   "version": "3.11.7"
  }
 },
 "nbformat": 4,
 "nbformat_minor": 5
}
